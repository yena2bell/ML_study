{
 "cells": [
  {
   "cell_type": "markdown",
   "metadata": {},
   "source": [
    "나이브 베이즈 (Naive bayes) 분류기\n",
    "----\n",
    "\n",
    "- 선형 모델과 유사.\n",
    "    - 선형 분류기보다 훈련 속도가 빠름.\n",
    "    - 대신 일반화 성능이 조금 떨어짐.\n",
    "- 각 특성을 개별로 취급해 parameter를 학습 후, 각 특성에서 클래스 별 통계를 단순하게 취합.\n",
    "- scikit-learn 에서는 3가지 분류기가 구현되어 있음.\n",
    "    - GaussianNB: 연속적인 어떤 data에도 적용 가능.\n",
    "    - BernoulliNB: 이진 데이터에 적용 가능.\n",
    "    - MultinomialNB: 카운트 데이터 (예시: 문장에 나타난 단어의 횟수)에 적용 가능."
   ]
  },
  {
   "cell_type": "markdown",
   "metadata": {},
   "source": [
    "### BernoulliNB\n",
    "각 class의 특성 중 0이 아닌 것이 몇 개인지 count.\n",
    "\n",
    "학습된 모델의 형태:\n",
    "- coef_ 는 특성 카운트의 수를 log 변환한 값으로 나온다.\n",
    "- intercept_ 는 클래스 카운트 수를 log 변환한 값으로 나온다.\n",
    "- 새로운 data가 주어질 경우, 선형 함수처럼 데이터 포인트에 coef_를 곱하고, intercept_를 터해서 클래스에 속할 확률 계산\n",
    "\n",
    "매개변수:\n",
    "- alpha 값이 하나 존재.\n",
    "    - 알고리즘이 모든 특성에 양의 값을 가진 가상의 데이터 포인트를 alpha 개수만큼 추가한다.\n",
    "    - 이를 통해 통계 데이터를 완만하게 만든다. (alpha 가 클수록 더 완만해지고 복잡도 감소.)\n",
    "- 그러나 alpha 값이 성능에 큰 영향을 주지 않음.\n",
    "\n",
    "텍스트와 같이 희소한 데이터를 카운트하는데 많이 사용함."
   ]
  },
  {
   "cell_type": "code",
   "execution_count": 1,
   "metadata": {},
   "outputs": [],
   "source": [
    "import numpy as np\n",
    "\n",
    "X = np.array([[0,1,0,1],\n",
    "              [1,0,1,1],\n",
    "              [0,0,0,1],\n",
    "              [1,0,1,0]])\n",
    "#X의 각 column이 특정 특성이 되고,\n",
    "#X의 각 row 가 y의 각 값에 대응된다.\n",
    "y = np.array([0,1,0,1])\n",
    "#class 는 0과 1 두 개."
   ]
  },
  {
   "cell_type": "code",
   "execution_count": 3,
   "metadata": {},
   "outputs": [
    {
     "name": "stdout",
     "output_type": "stream",
     "text": [
      "특성 count (각 특성에서 해당 class의 경우 1을 가지는 횟수):\n",
      "{0: array([0, 1, 0, 2]), 1: array([2, 0, 2, 1])}\n"
     ]
    }
   ],
   "source": [
    "counts = {}\n",
    "for label in np.unique(y):\n",
    "    #class 마다 반복\n",
    "    #특성마다 1이 나타난 횟수를 세어준다.\n",
    "    counts[label] = X[y == label].sum(axis=0)\n",
    "print(\"특성 count (각 특성에서 해당 class의 경우 1을 가지는 횟수):\\n{}\".format(counts))\n"
   ]
  },
  {
   "cell_type": "markdown",
   "metadata": {},
   "source": [
    "### MultinomialNB\n",
    "클래스 별로 특성의 평균을 계산\n",
    "\n",
    "학습된 모델의 형태:\n",
    "- coef_ 는 특성 평균을 log 변환한 값으로 나온다.\n",
    "- intercept_ 는 평균을 log 변환한 값으로 나온다.\n",
    "- 새로운 data가 주어질 경우, 선형 함수처럼 데이터 포인트에 coef_를 곱하고, intercept_를 터해서 클래스에 속할 확률 계산\n",
    "\n",
    "매개변수:\n",
    "- alpha 값이 하나 존재.\n",
    "    - 알고리즘이 모든 특성에 양의 값을 가진 가상의 데이터 포인트를 alpha 개수만큼 추가한다.\n",
    "    - 이를 통해 통계 데이터를 완만하게 만든다. (alpha 가 클수록 더 완만해지고 복잡도 감소.)\n",
    "- 그러나 alpha 값이 성능에 큰 영향을 주지 않음.\n",
    "\n",
    "텍스트와 같이 희소한 데이터를 카운트하는데 많이 사용함.\n",
    "- 0이 아닌 특성이 비교적 많은 dataset일 수록 BernoulliNB보다 성능이 잘 나온다고 함."
   ]
  },
  {
   "cell_type": "markdown",
   "metadata": {},
   "source": [
    "### GaussianNB\n",
    "클래스 별로 각 특성의 평균과 표준편차를 저장.\n",
    "\n",
    "대부분 매우 고차원인 dataset에 사용함."
   ]
  },
  {
   "cell_type": "markdown",
   "metadata": {},
   "source": []
  }
 ],
 "metadata": {
  "kernelspec": {
   "display_name": "for_machine_learning_study",
   "language": "python",
   "name": "python3"
  },
  "language_info": {
   "codemirror_mode": {
    "name": "ipython",
    "version": 3
   },
   "file_extension": ".py",
   "mimetype": "text/x-python",
   "name": "python",
   "nbconvert_exporter": "python",
   "pygments_lexer": "ipython3",
   "version": "3.10.9"
  }
 },
 "nbformat": 4,
 "nbformat_minor": 2
}
